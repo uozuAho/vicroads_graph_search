{
 "cells": [
  {
   "cell_type": "markdown",
   "metadata": {},
   "source": [
    "# Explore vicroads declared roads"
   ]
  },
  {
   "cell_type": "code",
   "execution_count": 1,
   "metadata": {
    "collapsed": true
   },
   "outputs": [],
   "source": [
    "import pandas as pd"
   ]
  },
  {
   "cell_type": "code",
   "execution_count": 2,
   "metadata": {},
   "outputs": [
    {
     "data": {
      "text/html": [
       "<div>\n",
       "<style>\n",
       "    .dataframe thead tr:only-child th {\n",
       "        text-align: right;\n",
       "    }\n",
       "\n",
       "    .dataframe thead th {\n",
       "        text-align: left;\n",
       "    }\n",
       "\n",
       "    .dataframe tbody tr th {\n",
       "        vertical-align: top;\n",
       "    }\n",
       "</style>\n",
       "<table border=\"1\" class=\"dataframe\">\n",
       "  <thead>\n",
       "    <tr style=\"text-align: right;\">\n",
       "      <th></th>\n",
       "      <th>lat</th>\n",
       "      <th>lon</th>\n",
       "    </tr>\n",
       "  </thead>\n",
       "  <tbody>\n",
       "    <tr>\n",
       "      <th>count</th>\n",
       "      <td>320554.000000</td>\n",
       "      <td>320554.000000</td>\n",
       "    </tr>\n",
       "    <tr>\n",
       "      <th>mean</th>\n",
       "      <td>-37.395008</td>\n",
       "      <td>145.080019</td>\n",
       "    </tr>\n",
       "    <tr>\n",
       "      <th>std</th>\n",
       "      <td>0.873922</td>\n",
       "      <td>1.738075</td>\n",
       "    </tr>\n",
       "    <tr>\n",
       "      <th>min</th>\n",
       "      <td>-39.030756</td>\n",
       "      <td>140.963093</td>\n",
       "    </tr>\n",
       "    <tr>\n",
       "      <th>25%</th>\n",
       "      <td>-37.990609</td>\n",
       "      <td>143.973837</td>\n",
       "    </tr>\n",
       "    <tr>\n",
       "      <th>50%</th>\n",
       "      <td>-37.639950</td>\n",
       "      <td>145.104217</td>\n",
       "    </tr>\n",
       "    <tr>\n",
       "      <th>75%</th>\n",
       "      <td>-36.908886</td>\n",
       "      <td>146.167111</td>\n",
       "    </tr>\n",
       "    <tr>\n",
       "      <th>max</th>\n",
       "      <td>-34.114537</td>\n",
       "      <td>149.748068</td>\n",
       "    </tr>\n",
       "  </tbody>\n",
       "</table>\n",
       "</div>"
      ],
      "text/plain": [
       "                 lat            lon\n",
       "count  320554.000000  320554.000000\n",
       "mean      -37.395008     145.080019\n",
       "std         0.873922       1.738075\n",
       "min       -39.030756     140.963093\n",
       "25%       -37.990609     143.973837\n",
       "50%       -37.639950     145.104217\n",
       "75%       -36.908886     146.167111\n",
       "max       -34.114537     149.748068"
      ]
     },
     "execution_count": 2,
     "metadata": {},
     "output_type": "execute_result"
    }
   ],
   "source": [
    "df = pd.read_csv('roads.csv')\n",
    "df.describe()"
   ]
  },
  {
   "cell_type": "markdown",
   "metadata": {},
   "source": [
    "Let's work out a scaling factor & offsets to get all points to fit within a 500x500 window. The scaling factor should be the same for x/y axes."
   ]
  },
  {
   "cell_type": "code",
   "execution_count": 3,
   "metadata": {},
   "outputs": [
    {
     "name": "stdout",
     "output_type": "stream",
     "text": [
      "lat to y: (lat - -39.0307555294734) * 56.91535750124111\n",
      "lon to x: (lon - 140.963092910004) * 56.91535750124111\n"
     ]
    }
   ],
   "source": [
    "ymin = df.lat.min()\n",
    "xmin = df.lon.min()\n",
    "yscale = 500 / (df.lat.max() - df.lat.min())\n",
    "xscale = 500 / (df.lon.max() - df.lon.min())\n",
    "# choose the smallest factor to keep everything within 500x500\n",
    "scale_factor = min(yscale, xscale)\n",
    "\n",
    "print('lat to y: (lat - {}) * {}'.format(ymin, scale_factor))\n",
    "print('lon to x: (lon - {}) * {}'.format(xmin, scale_factor))"
   ]
  },
  {
   "cell_type": "code",
   "execution_count": null,
   "metadata": {
    "collapsed": true
   },
   "outputs": [],
   "source": []
  }
 ],
 "metadata": {
  "kernelspec": {
   "display_name": "Python 3",
   "language": "python",
   "name": "python3"
  },
  "language_info": {
   "codemirror_mode": {
    "name": "ipython",
    "version": 3
   },
   "file_extension": ".py",
   "mimetype": "text/x-python",
   "name": "python",
   "nbconvert_exporter": "python",
   "pygments_lexer": "ipython3",
   "version": "3.5.2"
  }
 },
 "nbformat": 4,
 "nbformat_minor": 2
}
